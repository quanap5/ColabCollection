{
  "nbformat": 4,
  "nbformat_minor": 0,
  "metadata": {
    "colab": {
      "provenance": [],
      "gpuType": "T4",
      "authorship_tag": "ABX9TyMvCIX7M+yLMPNDnsny/6wS",
      "include_colab_link": true
    },
    "kernelspec": {
      "name": "python3",
      "display_name": "Python 3"
    },
    "language_info": {
      "name": "python"
    },
    "accelerator": "GPU"
  },
  "cells": [
    {
      "cell_type": "markdown",
      "metadata": {
        "id": "view-in-github",
        "colab_type": "text"
      },
      "source": [
        "<a href=\"https://colab.research.google.com/github/quanap5/ColabCollection/blob/main/Rank_BM25.ipynb\" target=\"_parent\"><img src=\"https://colab.research.google.com/assets/colab-badge.svg\" alt=\"Open In Colab\"/></a>"
      ]
    },
    {
      "cell_type": "markdown",
      "source": [
        "## Rank-BM25\n",
        "\n",
        "A collection of algorithms for querying a set of documents and returning the ones most relevant to the query. The most common use case for these algorithms is, as you migh have guessed, to create search engines.\n",
        "\n",
        "- [x] Okapi BM2\n",
        "- [x] BM25L\n",
        "- [x] BM25+\n",
        "- [ ] BM25-Adpt\n",
        "- [ ] BM25T"
      ],
      "metadata": {
        "id": "0cUhSyM4VQzd"
      }
    },
    {
      "cell_type": "markdown",
      "source": [
        "## Installation"
      ],
      "metadata": {
        "id": "zCTMTJPFWHEM"
      }
    },
    {
      "cell_type": "code",
      "execution_count": 7,
      "metadata": {
        "colab": {
          "base_uri": "https://localhost:8080/"
        },
        "id": "_h7KSRQWVEcP",
        "outputId": "b2897bc9-429d-49b5-e661-d7af4f393df2"
      },
      "outputs": [
        {
          "output_type": "stream",
          "name": "stdout",
          "text": [
            "Requirement already satisfied: rank_bm25 in /usr/local/lib/python3.11/dist-packages (0.2.2)\n",
            "Requirement already satisfied: numpy in /usr/local/lib/python3.11/dist-packages (from rank_bm25) (2.0.2)\n"
          ]
        }
      ],
      "source": [
        "pip install rank_bm25"
      ]
    },
    {
      "cell_type": "markdown",
      "source": [
        "## Initalizing\n",
        "\n",
        "Indexing document after they are tokenized"
      ],
      "metadata": {
        "id": "QSfTFpWdWOc3"
      }
    },
    {
      "cell_type": "code",
      "source": [
        "from rank_bm25 import BM25Okapi\n",
        "\n",
        "corpus = [\n",
        "    \"Hello there good man\",\n",
        "    \"It is quite windy in London\",\n",
        "    \"How is the weather today\"\n",
        "]\n",
        "\n",
        "tokenized_corpus = [doc.split(\" \") for doc in corpus]\n",
        "\n",
        "bm25 = BM25Okapi(tokenized_corpus)"
      ],
      "metadata": {
        "id": "k0IsDqOOVPnA"
      },
      "execution_count": 2,
      "outputs": []
    },
    {
      "cell_type": "code",
      "source": [
        "tokenized_corpus\n",
        "bm25"
      ],
      "metadata": {
        "colab": {
          "base_uri": "https://localhost:8080/"
        },
        "id": "WXRSB0zBWlD9",
        "outputId": "52f73511-1d9a-4660-c7cb-8dca4729188e"
      },
      "execution_count": 4,
      "outputs": [
        {
          "output_type": "execute_result",
          "data": {
            "text/plain": [
              "<rank_bm25.BM25Okapi at 0x788f6d765890>"
            ]
          },
          "metadata": {},
          "execution_count": 4
        }
      ]
    },
    {
      "cell_type": "markdown",
      "source": [
        "## Ranking of documents\n",
        "\n",
        "Based on the indexed documents, we git it queries and see which documents are the most relevant.\n",
        "\n",
        "- We need apply the same preprocessing steps we did to the documents\n",
        "- Instead of getting the document scores, we can also just retieve the best document"
      ],
      "metadata": {
        "id": "Mdj7UEx8W-aH"
      }
    },
    {
      "cell_type": "code",
      "source": [
        "query = \"today weather\"\n",
        "tokenized_query = query.split(\" \")\n",
        "\n",
        "doc_scores = bm25.get_scores(tokenized_query)\n",
        "print(doc_scores)"
      ],
      "metadata": {
        "colab": {
          "base_uri": "https://localhost:8080/"
        },
        "id": "YMJSNvF0W77s",
        "outputId": "b449ac12-b3d2-4371-d200-27942fcf1d59"
      },
      "execution_count": 5,
      "outputs": [
        {
          "output_type": "stream",
          "name": "stdout",
          "text": [
            "[0.         0.         1.02165125]\n"
          ]
        }
      ]
    },
    {
      "cell_type": "code",
      "source": [
        "bm25.get_top_n(tokenized_query, corpus, n=1)"
      ],
      "metadata": {
        "colab": {
          "base_uri": "https://localhost:8080/"
        },
        "id": "1k5CKqyQYJEo",
        "outputId": "caab1447-bd84-4288-c25a-c4b4525c16e3"
      },
      "execution_count": 6,
      "outputs": [
        {
          "output_type": "execute_result",
          "data": {
            "text/plain": [
              "['How is the weather today']"
            ]
          },
          "metadata": {},
          "execution_count": 6
        }
      ]
    },
    {
      "cell_type": "markdown",
      "source": [],
      "metadata": {
        "id": "wQ5_gAWFWN1G"
      }
    }
  ]
}